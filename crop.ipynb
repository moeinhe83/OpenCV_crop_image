{
 "cells": [
  {
   "cell_type": "code",
   "execution_count": 1,
   "metadata": {},
   "outputs": [],
   "source": [
    "import cv2 "
   ]
  },
  {
   "cell_type": "code",
   "execution_count": 2,
   "metadata": {},
   "outputs": [],
   "source": [
    "image = cv2.resize(cv2.imread('car.jpg'), (700, 500))"
   ]
  },
  {
   "cell_type": "code",
   "execution_count": 3,
   "metadata": {},
   "outputs": [],
   "source": [
    "def crop(event, x, y, flag, parameter):\n",
    "    global ix, iy, drawing, rect_list\n",
    "\n",
    "    if event == cv2.EVENT_LBUTTONDOWN:\n",
    "        ix, iy = x, y\n",
    "        drawing = True\n",
    "        rect_list = []\n",
    "\n",
    "    elif event == cv2.EVENT_MOUSEMOVE:\n",
    "        if drawing:\n",
    "            temp_image = image.copy()\n",
    "            for rect in rect_list:\n",
    "                cv2.rectangle(temp_image, rect[0], rect[1], (0, 255, 0), 2)\n",
    "            cv2.rectangle(temp_image, (ix, iy), (x, y), (0, 255, 0), 2)\n",
    "            cv2.imshow('image', temp_image)\n",
    "\n",
    "    elif event == cv2.EVENT_LBUTTONUP:\n",
    "        drawing = False\n",
    "        x1 = min(ix, x)\n",
    "        y1 = min(iy, y)\n",
    "        x2 = max(ix, x)\n",
    "        y2 = max(iy, y)\n",
    "        rect_list.append(((x1, y1), (x2, y2)))\n",
    "        for rect in rect_list:\n",
    "            cv2.rectangle(image, rect[0], rect[1], (0, 255, 0), 2)\n",
    "        cv2.imshow('image', image)"
   ]
  },
  {
   "cell_type": "code",
   "execution_count": 4,
   "metadata": {},
   "outputs": [],
   "source": [
    "drawing = False\n",
    "ix, iy = -1, -1\n",
    "rect_list = []\n",
    "\n",
    "cv2.namedWindow('image')\n",
    "cv2.setMouseCallback('image', crop)\n",
    "\n",
    "image = cv2.resize(cv2.imread('car.jpg'), (700, 500))\n",
    "\n",
    "cv2.imshow('image', image)\n",
    "cv2.waitKey(0)\n",
    "\n",
    "\n",
    "if rect_list:\n",
    "    croped_image = image[rect_list[0][0][1]:rect_list[0]\n",
    "                         [1][1], rect_list[0][0][0]:rect_list[0][1][0]]\n",
    "    cv2.imshow('croped_image', croped_image)\n",
    "    cv2.waitKey(0)\n",
    "\n",
    "cv2.destroyAllWindows()"
   ]
  },
  {
   "cell_type": "code",
   "execution_count": null,
   "metadata": {},
   "outputs": [],
   "source": []
  }
 ],
 "metadata": {
  "kernelspec": {
   "display_name": "Python 3",
   "language": "python",
   "name": "python3"
  },
  "language_info": {
   "codemirror_mode": {
    "name": "ipython",
    "version": 3
   },
   "file_extension": ".py",
   "mimetype": "text/x-python",
   "name": "python",
   "nbconvert_exporter": "python",
   "pygments_lexer": "ipython3",
   "version": "3.12.5"
  }
 },
 "nbformat": 4,
 "nbformat_minor": 2
}
